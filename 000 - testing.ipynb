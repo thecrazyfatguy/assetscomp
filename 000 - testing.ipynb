{
 "cells": [
  {
   "cell_type": "code",
   "execution_count": 2,
   "id": "c8b91625",
   "metadata": {},
   "outputs": [],
   "source": [
    "import numpy as np\n",
    "import pandas as pd"
   ]
  },
  {
   "cell_type": "code",
   "execution_count": 7,
   "id": "ffc0505d",
   "metadata": {},
   "outputs": [],
   "source": [
    "periods = 6"
   ]
  },
  {
   "cell_type": "code",
   "execution_count": 13,
   "id": "ec9dc686",
   "metadata": {},
   "outputs": [],
   "source": [
    "interest_rate = 12"
   ]
  },
  {
   "cell_type": "code",
   "execution_count": 15,
   "id": "de7dc7aa",
   "metadata": {},
   "outputs": [],
   "source": [
    "interest_rate = interest_rate/100"
   ]
  },
  {
   "cell_type": "code",
   "execution_count": 28,
   "id": "0f0f7c0a",
   "metadata": {},
   "outputs": [
    {
     "data": {
      "text/plain": [
       "1.12"
      ]
     },
     "execution_count": 28,
     "metadata": {},
     "output_type": "execute_result"
    }
   ],
   "source": [
    "interest_rate_one"
   ]
  },
  {
   "cell_type": "code",
   "execution_count": 25,
   "id": "86bfa03a",
   "metadata": {},
   "outputs": [],
   "source": [
    "interest_rate_one = interest_rate+1"
   ]
  },
  {
   "cell_type": "code",
   "execution_count": 31,
   "id": "51d50d71",
   "metadata": {},
   "outputs": [
    {
     "data": {
      "text/plain": [
       "0.019067623060521344"
      ]
     },
     "execution_count": 31,
     "metadata": {},
     "output_type": "execute_result"
    }
   ],
   "source": [
    "((interest_rate+1)**(1/periods))-1"
   ]
  },
  {
   "cell_type": "code",
   "execution_count": 32,
   "id": "c666ff8a",
   "metadata": {},
   "outputs": [],
   "source": [
    "interest_rate_2 = ((interest_rate+1)**(1/periods))-1"
   ]
  },
  {
   "cell_type": "code",
   "execution_count": 33,
   "id": "1e6bd24c",
   "metadata": {},
   "outputs": [
    {
     "data": {
      "text/plain": [
       "0.019067623060521344"
      ]
     },
     "execution_count": 33,
     "metadata": {},
     "output_type": "execute_result"
    }
   ],
   "source": [
    "interest_rate_2"
   ]
  }
 ],
 "metadata": {
  "kernelspec": {
   "display_name": "Python 3",
   "language": "python",
   "name": "python3"
  },
  "language_info": {
   "codemirror_mode": {
    "name": "ipython",
    "version": 3
   },
   "file_extension": ".py",
   "mimetype": "text/x-python",
   "name": "python",
   "nbconvert_exporter": "python",
   "pygments_lexer": "ipython3",
   "version": "3.8.5"
  }
 },
 "nbformat": 4,
 "nbformat_minor": 5
}
